{
 "cells": [
  {
   "cell_type": "code",
   "execution_count": 80,
   "metadata": {},
   "outputs": [],
   "source": [
    "import os\n",
    "import sys\n",
    "import cv2\n",
    "import torch\n",
    "import numpy as np\n",
    "from tqdm import tqdm\n",
    "import torch.nn as nn\n",
    "import torch.nn.functional as F\n",
    "from torch.utils.data import Dataset,DataLoader\n",
    "from torchvision import transforms,models\n",
    "from PIL import Image\n",
    "from keras.datasets import mnist\n",
    "\n",
    "import matplotlib.pyplot as plt\n",
    "%matplotlib inline\n",
    "\n",
    "device = torch.device('cuda:0' if torch.cuda.is_available() else 'cpu')"
   ]
  },
  {
   "cell_type": "markdown",
   "metadata": {},
   "source": [
    "# 加载数据"
   ]
  },
  {
   "cell_type": "code",
   "execution_count": 5,
   "metadata": {},
   "outputs": [],
   "source": [
    "train, test = mnist.load_data()\n",
    "train_x, train_y, test_x, test_y = train[0], train[1], test[0], test[1]"
   ]
  },
  {
   "cell_type": "code",
   "execution_count": 6,
   "metadata": {},
   "outputs": [
    {
     "data": {
      "image/png": "[encoded data removed]",
      "text/plain": [
       "<Figure size 360x360 with 2 Axes>"
      ]
     },
     "metadata": {},
     "output_type": "display_data"
    }
   ],
   "source": [
    "plt.figure(figsize=(5,5))\n",
    "plt.subplot(1,2,1)\n",
    "plt.imshow(train_x[100])\n",
    "plt.title(train_y[100])\n",
    "plt.subplot(1,2,2)\n",
    "plt.imshow(test_x[100])\n",
    "plt.title(test_y[100])\n",
    "plt.show()"
   ]
  },
  {
   "cell_type": "markdown",
   "metadata": {},
   "source": [
    "# 可视化函数"
   ]
  },
  {
   "cell_type": "code",
   "execution_count": 31,
   "metadata": {},
   "outputs": [],
   "source": [
    "# fork from：https://github.com/adambielski/siamese-triplet/blob/master/Experiments_MNIST.ipynb\n",
    "\n",
    "mnist_classes = ['0', '1', '2', '3', '4', '5', '6', '7', '8', '9']\n",
    "colors = ['#1f77b4', '#ff7f0e', '#2ca02c', '#d62728',\n",
    "              '#9467bd', '#8c564b', '#e377c2', '#7f7f7f',\n",
    "              '#bcbd22', '#17becf']\n",
    "\n",
    "def plot_embeddings(embeddings, targets, xlim=None, ylim=None):\n",
    "    plt.figure(figsize=(10,10))\n",
    "    for i in range(10):\n",
    "        inds = np.where(targets==i)[0]\n",
    "        plt.scatter(embeddings[inds,0], embeddings[inds,1], alpha=0.5, color=colors[i])\n",
    "    if xlim:\n",
    "        plt.xlim(xlim[0], xlim[1])\n",
    "    if ylim:\n",
    "        plt.ylim(ylim[0], ylim[1])\n",
    "    plt.legend(mnist_classes)\n",
    "\n",
    "def extract_embeddings(dataloader, model):\n",
    "    with torch.no_grad():\n",
    "        model.eval()\n",
    "        # embeddings = np.zeros((len(dataloader), 2))\n",
    "        # labels = np.zeros(len(dataloader))\n",
    "        k = 0\n",
    "        for i, (images, target) in enumerate(dataloader):\n",
    "            images = images.to(device)\n",
    "            output = model.get_embedding(images).data.cpu().numpy()\n",
    "            if i == 0:\n",
    "                embeddings = output\n",
    "                labels = target.numpy()\n",
    "            else:\n",
    "                embeddings = np.vstack((embeddings, output))\n",
    "                labels = np.hstack((labels, target))\n",
    "            embeddings[k:k+images.shape[0]] = output\n",
    "            labels[k:k+images.shape[0]] = target.numpy()\n",
    "            \n",
    "            k += images.shape[0]\n",
    "    return embeddings, labels"
   ]
  },
  {
   "cell_type": "markdown",
   "metadata": {},
   "source": [
    "# 创建Net"
   ]
  },
  {
   "cell_type": "code",
   "execution_count": 10,
   "metadata": {},
   "outputs": [],
   "source": [
    "# part fork from：https://github.com/adambielski/siamese-triplet/blob/master/networks.py\n",
    "class EmbeddingNet(nn.Module):\n",
    "    def __init__(self):\n",
    "        super(EmbeddingNet, self).__init__()\n",
    "        self.convnet = nn.Sequential(nn.Conv2d(1, 32, 5), nn.PReLU(),\n",
    "                                     nn.MaxPool2d(2, stride=2),\n",
    "                                     nn.Conv2d(32, 64, 5), nn.PReLU(),\n",
    "                                     nn.MaxPool2d(2, stride=2))\n",
    "\n",
    "        self.fc = nn.Sequential(nn.Linear(64 * 4 * 4, 256),\n",
    "                                nn.PReLU(),\n",
    "                                nn.Linear(256, 256),\n",
    "                                nn.PReLU(),\n",
    "                                nn.Linear(256, 2)\n",
    "                                )\n",
    "\n",
    "    def forward(self, x):\n",
    "        output = self.convnet(x)\n",
    "        output = output.view(output.size()[0], -1)\n",
    "        output = self.fc(output)\n",
    "        return output\n",
    "    \n",
    "    def get_embedding(self, x):\n",
    "        return self.forward(x)\n",
    "    \n",
    "class EmbeddingNetL2(EmbeddingNet):\n",
    "    def __init__(self):\n",
    "        super(EmbeddingNetL2, self).__init__()\n",
    "\n",
    "    def forward(self, x):\n",
    "        output = super(EmbeddingNetL2, self).forward(x)\n",
    "        output /= output.pow(2).sum(1, keepdim=True).sqrt()\n",
    "        return output\n",
    "\n",
    "    def get_embedding(self, x):\n",
    "        return self.forward(x)\n",
    "    \n",
    "    \n",
    "    \n",
    "class ClassifierNet(nn.Module):\n",
    "    def __init__(self, categories):\n",
    "        super(ClassifierNet, self).__init__()\n",
    "        self.embeddingnet = EmbeddingNet()\n",
    "        self.nonlinear = nn.PReLU()\n",
    "        self.fc = nn.Linear(2, categories)\n",
    "        \n",
    "    def forward(self, x):\n",
    "        x = self.embeddingnet(x)\n",
    "        x = self.nonlinear(x)\n",
    "        x = self.fc(x)\n",
    "        return x\n",
    "    \n",
    "    def get_embedding(self, x):\n",
    "        return self.nonlinear(self.embeddingnet(x))"
   ]
  },
  {
   "cell_type": "markdown",
   "metadata": {},
   "source": [
    "# Dataloader for softmax"
   ]
  },
  {
   "cell_type": "code",
   "execution_count": 85,
   "metadata": {},
   "outputs": [],
   "source": [
    "class DataGen(Dataset):\n",
    "    def __init__(self, data, label, transforms=None):\n",
    "        self.data = data\n",
    "        self.label = label\n",
    "        self.transforms = transforms\n",
    "        \n",
    "    def __getitem__(self, index):\n",
    "        img = self.data[index]\n",
    "        tag = self.label[index]\n",
    "        if self.transforms:\n",
    "            img = Image.fromarray(img.astype('uint8'))\n",
    "            img = self.transforms(img)\n",
    "        return img, tag\n",
    "\n",
    "    def __len__(self):\n",
    "        return self.data.shape[0]"
   ]
  },
  {
   "cell_type": "code",
   "execution_count": 116,
   "metadata": {},
   "outputs": [],
   "source": [
    "traingen = DataGen(train_x, train_y, transforms=transforms.Compose([transforms.ToTensor()]))\n",
    "trainloader = DataLoader(dataset=traingen,\n",
    "                         batch_size=32,\n",
    "                         pin_memory=False,\n",
    "                         drop_last=True,\n",
    "                         shuffle=True,\n",
    "                         num_workers=10)\n",
    "testgen = DataGen(test_x, test_y, transforms=transforms.Compose([transforms.ToTensor()]))\n",
    "testloader = DataLoader(dataset=testgen,\n",
    "                         batch_size=32,\n",
    "                         pin_memory=False,\n",
    "                         drop_last=True,\n",
    "                         shuffle=True,\n",
    "                         num_workers=10)"
   ]
  },
  {
   "cell_type": "code",
   "execution_count": 87,
   "metadata": {},
   "outputs": [
    {
     "name": "stdout",
     "output_type": "stream",
     "text": [
      "torch.Size([32, 1, 28, 28]) tensor([ 8,  6,  2,  9,  9,  4,  4,  1,  5,  8,  6,  2,  1,  7,\n",
      "         3,  6,  4,  1,  4,  3,  7,  2,  9,  3,  0,  7,  1,  1,\n",
      "         3,  3,  0,  2], dtype=torch.uint8)\n"
     ]
    }
   ],
   "source": [
    "temp = iter(trainloader)\n",
    "img, label = next(temp)\n",
    "print(img.shape,label)"
   ]
  },
  {
   "cell_type": "code",
   "execution_count": 11,
   "metadata": {},
   "outputs": [],
   "source": [
    "model = ClassifierNet(10)\n",
    "criterion = torch.nn.CrossEntropyLoss()\n",
    "optimizer = torch.optim.Adam(params=model.parameters(), lr=0.001)"
   ]
  },
  {
   "cell_type": "code",
   "execution_count": 12,
   "metadata": {
    "scrolled": true
   },
   "outputs": [
    {
     "name": "stdout",
     "output_type": "stream",
     "text": [
      "1/10, steps:1, loss:2.3157362937927246\n",
      "1/10, steps:101, loss:1.3582979440689087\n",
      "1/10, steps:201, loss:1.009324312210083\n",
      "1/10, steps:301, loss:0.7351540923118591\n",
      "1/10, steps:401, loss:0.609061598777771\n",
      "1/10, steps:501, loss:0.42083364725112915\n",
      "1/10, steps:601, loss:0.49983254075050354\n",
      "1/10, steps:701, loss:0.611308217048645\n",
      "1/10, steps:801, loss:0.23569631576538086\n",
      "1/10, steps:901, loss:0.27480119466781616\n",
      "1/10, steps:1001, loss:0.11253610253334045\n",
      "1/10, steps:1101, loss:0.1295250803232193\n",
      "1/10, steps:1201, loss:0.04506021738052368\n",
      "1/10, steps:1301, loss:0.5298935174942017\n",
      "1/10, steps:1401, loss:0.09185680001974106\n",
      "1/10, steps:1501, loss:0.2397640198469162\n",
      "1/10, steps:1601, loss:0.1332893818616867\n",
      "1/10, steps:1701, loss:0.06380537152290344\n",
      "1/10, steps:1801, loss:0.02346399426460266\n",
      "Average Accuracy is 0.9777644230769231\n",
      "2/10, steps:1, loss:0.04885256290435791\n",
      "2/10, steps:101, loss:0.08184562623500824\n",
      "2/10, steps:201, loss:0.01470184326171875\n",
      "2/10, steps:301, loss:0.10408447682857513\n",
      "2/10, steps:401, loss:0.07097208499908447\n",
      "2/10, steps:501, loss:0.05742645263671875\n",
      "2/10, steps:601, loss:0.04746130108833313\n",
      "2/10, steps:701, loss:0.027025818824768066\n",
      "2/10, steps:801, loss:0.03746332228183746\n",
      "2/10, steps:901, loss:0.07080423831939697\n",
      "2/10, steps:1001, loss:0.12174802273511887\n",
      "2/10, steps:1101, loss:0.05388571321964264\n",
      "2/10, steps:1201, loss:0.15246741473674774\n",
      "2/10, steps:1301, loss:0.23135271668434143\n",
      "2/10, steps:1401, loss:0.0292813777923584\n",
      "2/10, steps:1501, loss:0.02725560963153839\n",
      "2/10, steps:1601, loss:0.029880791902542114\n",
      "2/10, steps:1701, loss:0.05335060507059097\n",
      "2/10, steps:1801, loss:0.15606971085071564\n",
      "Average Accuracy is 0.9834735576923077\n",
      "3/10, steps:1, loss:0.09071094542741776\n",
      "3/10, steps:101, loss:0.09831810742616653\n",
      "3/10, steps:201, loss:1.0574944019317627\n",
      "3/10, steps:301, loss:0.08201578259468079\n",
      "3/10, steps:401, loss:0.020958364009857178\n",
      "3/10, steps:501, loss:0.0019551515579223633\n",
      "3/10, steps:601, loss:0.08267519623041153\n",
      "3/10, steps:701, loss:0.0030077099800109863\n",
      "3/10, steps:801, loss:0.0320536270737648\n",
      "3/10, steps:901, loss:0.14779435098171234\n",
      "3/10, steps:1001, loss:0.004154026508331299\n",
      "3/10, steps:1101, loss:0.1671464890241623\n",
      "3/10, steps:1201, loss:0.036309272050857544\n",
      "3/10, steps:1301, loss:0.07800790667533875\n",
      "3/10, steps:1401, loss:0.045653775334358215\n",
      "3/10, steps:1501, loss:0.02288830280303955\n",
      "3/10, steps:1601, loss:0.007956922054290771\n",
      "3/10, steps:1701, loss:0.05151980370283127\n",
      "3/10, steps:1801, loss:0.026522278785705566\n",
      "Average Accuracy is 0.9842748397435898\n",
      "4/10, steps:1, loss:0.22917217016220093\n",
      "4/10, steps:101, loss:0.044956862926483154\n",
      "4/10, steps:201, loss:0.0710119754076004\n",
      "4/10, steps:301, loss:0.021795794367790222\n",
      "4/10, steps:401, loss:0.026797890663146973\n",
      "4/10, steps:501, loss:0.0038917064666748047\n",
      "4/10, steps:601, loss:0.0026638805866241455\n",
      "4/10, steps:701, loss:0.02521541714668274\n",
      "4/10, steps:801, loss:0.011116981506347656\n",
      "4/10, steps:901, loss:0.0032861828804016113\n",
      "4/10, steps:1001, loss:0.026722252368927002\n",
      "4/10, steps:1101, loss:0.001825779676437378\n",
      "4/10, steps:1201, loss:0.08824151754379272\n",
      "4/10, steps:1301, loss:0.042718276381492615\n",
      "4/10, steps:1401, loss:0.0011272728443145752\n",
      "4/10, steps:1501, loss:0.026314765214920044\n",
      "4/10, steps:1601, loss:0.2021709680557251\n",
      "4/10, steps:1701, loss:0.09183590859174728\n",
      "4/10, steps:1801, loss:0.0019993185997009277\n",
      "Average Accuracy is 0.9845753205128205\n",
      "5/10, steps:1, loss:0.03146904706954956\n",
      "5/10, steps:101, loss:0.009205222129821777\n",
      "5/10, steps:201, loss:0.0008829236030578613\n",
      "5/10, steps:301, loss:0.0032866299152374268\n",
      "5/10, steps:401, loss:0.015130043029785156\n",
      "5/10, steps:501, loss:0.17186957597732544\n",
      "5/10, steps:601, loss:0.0447632372379303\n",
      "5/10, steps:701, loss:0.19614414870738983\n",
      "5/10, steps:801, loss:0.003250598907470703\n",
      "5/10, steps:901, loss:0.016081571578979492\n",
      "5/10, steps:1001, loss:0.012606054544448853\n",
      "5/10, steps:1101, loss:0.0272333025932312\n",
      "5/10, steps:1201, loss:0.0031952857971191406\n",
      "5/10, steps:1301, loss:0.002120494842529297\n",
      "5/10, steps:1401, loss:0.15269529819488525\n",
      "5/10, steps:1501, loss:0.016433000564575195\n",
      "5/10, steps:1601, loss:0.0036456286907196045\n",
      "5/10, steps:1701, loss:0.09263475984334946\n",
      "5/10, steps:1801, loss:0.0225105881690979\n",
      "Average Accuracy is 0.9864783653846154\n",
      "6/10, steps:1, loss:0.0022632479667663574\n",
      "6/10, steps:101, loss:0.011632204055786133\n",
      "6/10, steps:201, loss:0.0030152499675750732\n",
      "6/10, steps:301, loss:0.003917902708053589\n",
      "6/10, steps:401, loss:0.04985088109970093\n",
      "6/10, steps:501, loss:0.062243521213531494\n",
      "6/10, steps:601, loss:0.01357424259185791\n",
      "6/10, steps:701, loss:0.07019498944282532\n",
      "6/10, steps:801, loss:0.006569594144821167\n",
      "6/10, steps:901, loss:0.008481532335281372\n",
      "6/10, steps:1001, loss:0.02521967887878418\n",
      "6/10, steps:1101, loss:0.017816007137298584\n",
      "6/10, steps:1201, loss:0.0005024075508117676\n",
      "6/10, steps:1301, loss:0.09615413099527359\n",
      "6/10, steps:1401, loss:0.016445279121398926\n",
      "6/10, steps:1501, loss:0.011515751481056213\n",
      "6/10, steps:1601, loss:0.0019452273845672607\n",
      "6/10, steps:1701, loss:0.006118953227996826\n",
      "6/10, steps:1801, loss:0.05191659927368164\n",
      "Average Accuracy is 0.9893830128205128\n",
      "7/10, steps:1, loss:0.005447328090667725\n",
      "7/10, steps:101, loss:0.0002211928367614746\n",
      "7/10, steps:201, loss:0.0045452117919921875\n",
      "7/10, steps:301, loss:0.0029587745666503906\n",
      "7/10, steps:401, loss:0.04949308931827545\n",
      "7/10, steps:501, loss:0.11374092102050781\n",
      "7/10, steps:601, loss:0.5132740139961243\n",
      "7/10, steps:701, loss:0.02633519470691681\n",
      "7/10, steps:801, loss:0.02974081039428711\n",
      "7/10, steps:901, loss:0.05372989922761917\n",
      "7/10, steps:1001, loss:0.0008647441864013672\n",
      "7/10, steps:1101, loss:0.06475532799959183\n",
      "7/10, steps:1201, loss:0.007171899080276489\n",
      "7/10, steps:1301, loss:0.00010484457015991211\n",
      "7/10, steps:1401, loss:0.019074976444244385\n",
      "7/10, steps:1501, loss:0.183487206697464\n",
      "7/10, steps:1601, loss:0.07004069536924362\n",
      "7/10, steps:1701, loss:0.1123569905757904\n",
      "7/10, steps:1801, loss:0.0023426711559295654\n",
      "Average Accuracy is 0.9858774038461539\n",
      "8/10, steps:1, loss:0.0071891844272613525\n",
      "8/10, steps:101, loss:0.0006459355354309082\n",
      "8/10, steps:201, loss:0.0036962032318115234\n",
      "8/10, steps:301, loss:0.3658845126628876\n",
      "8/10, steps:401, loss:0.02471911907196045\n",
      "8/10, steps:501, loss:0.0008843839168548584\n",
      "8/10, steps:601, loss:0.01371869444847107\n",
      "8/10, steps:701, loss:0.004221320152282715\n",
      "8/10, steps:801, loss:0.0023999810218811035\n",
      "8/10, steps:901, loss:0.03045007586479187\n",
      "8/10, steps:1001, loss:0.00985807180404663\n",
      "8/10, steps:1101, loss:0.0003905296325683594\n",
      "8/10, steps:1201, loss:0.0012728869915008545\n",
      "8/10, steps:1301, loss:0.009439796209335327\n",
      "8/10, steps:1401, loss:0.05196850001811981\n",
      "8/10, steps:1501, loss:0.0005105733871459961\n",
      "8/10, steps:1601, loss:0.008716583251953125\n",
      "8/10, steps:1701, loss:0.3246879577636719\n",
      "8/10, steps:1801, loss:0.0027028918266296387\n",
      "Average Accuracy is 0.98828125\n",
      "9/10, steps:1, loss:0.0038961470127105713\n",
      "9/10, steps:101, loss:0.0003514885902404785\n",
      "9/10, steps:201, loss:0.012555539608001709\n",
      "9/10, steps:301, loss:0.0037114620208740234\n",
      "9/10, steps:401, loss:0.04760795831680298\n",
      "9/10, steps:501, loss:0.04331047087907791\n",
      "9/10, steps:601, loss:0.006455749273300171\n",
      "9/10, steps:701, loss:0.07053165882825851\n",
      "9/10, steps:801, loss:0.07695283740758896\n",
      "9/10, steps:901, loss:0.007613644003868103\n",
      "9/10, steps:1001, loss:0.0006801486015319824\n",
      "9/10, steps:1101, loss:0.17026911675930023\n",
      "9/10, steps:1201, loss:0.05612766742706299\n",
      "9/10, steps:1301, loss:0.009623974561691284\n",
      "9/10, steps:1401, loss:0.0026317834854125977\n",
      "9/10, steps:1501, loss:0.006795436143875122\n",
      "9/10, steps:1601, loss:0.026238977909088135\n",
      "9/10, steps:1701, loss:0.002890646457672119\n",
      "9/10, steps:1801, loss:0.02862665057182312\n",
      "Average Accuracy is 0.9888822115384616\n",
      "10/10, steps:1, loss:0.013079121708869934\n",
      "10/10, steps:101, loss:0.004853188991546631\n",
      "10/10, steps:201, loss:0.13200941681861877\n",
      "10/10, steps:301, loss:0.007006198167800903\n",
      "10/10, steps:401, loss:0.030262529850006104\n",
      "10/10, steps:501, loss:0.00038182735443115234\n",
      "10/10, steps:601, loss:0.027675360441207886\n",
      "10/10, steps:701, loss:0.00019979476928710938\n",
      "10/10, steps:801, loss:0.20173877477645874\n",
      "10/10, steps:901, loss:0.04704777151346207\n",
      "10/10, steps:1001, loss:0.001827538013458252\n",
      "10/10, steps:1101, loss:4.70280647277832e-05\n"
     ]
    },
    {
     "name": "stdout",
     "output_type": "stream",
     "text": [
      "10/10, steps:1201, loss:0.004020228981971741\n",
      "10/10, steps:1301, loss:0.0013758540153503418\n",
      "10/10, steps:1401, loss:0.0011112689971923828\n",
      "10/10, steps:1501, loss:0.003965109586715698\n",
      "10/10, steps:1601, loss:0.07080674171447754\n",
      "10/10, steps:1701, loss:0.018589168787002563\n",
      "10/10, steps:1801, loss:0.000330507755279541\n",
      "Average Accuracy is 0.9872796474358975\n"
     ]
    }
   ],
   "source": [
    "epochs = 10\n",
    "\n",
    "model = model.to(device)\n",
    "for i in range(epochs):\n",
    "    for j, (img, tag) in enumerate(trainloader):\n",
    "        img = img.to(device)\n",
    "        tag = tag.to(device)\n",
    "        # print(tag)\n",
    "        output = model(img)\n",
    "        loss = criterion(output, tag.type(torch.cuda.LongTensor))\n",
    "        optimizer.zero_grad()\n",
    "        loss.backward()\n",
    "        optimizer.step()\n",
    "        \n",
    "        if j % 100 == 0:\n",
    "            print('{}/{}, steps:{}, loss:{}'.format(i+1, epochs, j+1, loss.item()))\n",
    "    model.eval()\n",
    "    with torch.no_grad():\n",
    "        correct = 0\n",
    "        total = 0\n",
    "        for img, tag in testloader:\n",
    "            img = img.to(device)\n",
    "            tag = tag.to(device).type(torch.cuda.LongTensor)\n",
    "            output = model(img)\n",
    "            _, predicted = torch.max(output.data, 1)\n",
    "            correct += (predicted == tag).sum().item()\n",
    "            total += tag.shape[0]\n",
    "        print('Average Accuracy is {}'.format(correct / total))  "
   ]
  },
  {
   "cell_type": "markdown",
   "metadata": {},
   "source": [
    "# 可视化softmax结果\n",
    "可视化基于分类的特征空间分布"
   ]
  },
  {
   "cell_type": "code",
   "execution_count": 34,
   "metadata": {},
   "outputs": [
    {
     "data": {
      "image/png": "[encoded data removed]",
      "text/plain": [
       "<Figure size 720x720 with 1 Axes>"
      ]
     },
     "metadata": {},
     "output_type": "display_data"
    }
   ],
   "source": [
    "emebddings, labels = extract_embeddings(dataloader=testloader, model=model)\n",
    "plot_embeddings(emebddings, labels)"
   ]
  },
  {
   "cell_type": "markdown",
   "metadata": {},
   "source": [
    "# Dataloder for Siamese"
   ]
  },
  {
   "cell_type": "code",
   "execution_count": 88,
   "metadata": {},
   "outputs": [],
   "source": [
    "'''\n",
    "Siamese翻译过来是孪生，也是说两个一摸一样的模型\n",
    "实际上只有一个模型，只是成对的数据通过它能够判断是否属于同一类别\n",
    "所以这里需要编写孪生网络所需要的数据生成器，同类赋予label：1，异类赋予label：0\n",
    "训练：\n",
    "是否是同类，靠随机选取0/1值查看，\n",
    "'''\n",
    "import random\n",
    "class SiameseDataset(Dataset):\n",
    "    def __init__(self, images, labels, tag='train', transforms=None):\n",
    "        self.data = images\n",
    "        self.labels = labels\n",
    "        self.tag = tag\n",
    "        self.transforms = transforms\n",
    "        self.label_set = set(labels)\n",
    "        self.label2index = { i:list(np.where(labels==i)[0]) for i in self.label_set}\n",
    "        \n",
    "        if tag != 'train':\n",
    "            '''\n",
    "            依次遍历整个数据集，第i个数据，作为它的正pair，随机从所有该类别内选取一个。\n",
    "            '''\n",
    "            positive_pairs = [[i, \n",
    "                               random.choice(self.label2index[self.labels[i]]), \n",
    "                               1] \n",
    "                              for i in range(self.data.shape[0])]\n",
    "            \n",
    "            '''\n",
    "            依次遍历整个数据集，第i个数据，作为它的负pair，随机从剔除该类后的其他类中随机选取一个类，然后再从选取的类中\n",
    "            随机选取一个数据\n",
    "            '''\n",
    "            negative_pairs = [[i, \n",
    "                               random.choice(self.label2index[random.choice(list(self.label_set - set([self.labels[i]])))]), \n",
    "                               0] \n",
    "                              for i in range(self.data.shape[0])]\n",
    "            \n",
    "            self.test_paires = positive_pairs + negative_pairs\n",
    "        \n",
    "    def __getitem__(self, index):\n",
    "        if self.tag == 'train':\n",
    "            img1 = self.data[index]\n",
    "            label = self.labels[index]\n",
    "            siamese_nor = random.randint(0,1)\n",
    "            if siamese_nor == 1:\n",
    "                siamese_index = index\n",
    "                \n",
    "                while siamese_index == index:\n",
    "                    siamese_index = random.choice(self.label2index[label])\n",
    "            else:\n",
    "                siamese_label = random.choice(list(self.label_set - set([label])))\n",
    "                siamese_index = random.choice(self.label2index[siamese_label])\n",
    "            img2 = self.data[siamese_index]\n",
    "            label = siamese_nor\n",
    "            \n",
    "        else:\n",
    "            sample = self.test_paires[index]\n",
    "            img1 = self.data[sample[0]]\n",
    "            img2 = self.data[sample[1]]\n",
    "            label = sample[2]\n",
    "        \n",
    "        if self.transforms:\n",
    "            img1 = self.transforms(Image.fromarray(img1))\n",
    "            img2 = self.transforms(Image.fromarray(img2))\n",
    "\n",
    "            \n",
    "        return img1, img2, label\n",
    "    \n",
    "    def __len__(self):\n",
    "        if self.tag == 'train':\n",
    "            return len(self.data)\n",
    "        else:\n",
    "            return len(self.test_paires)\n",
    "            \n",
    "            "
   ]
  },
  {
   "cell_type": "code",
   "execution_count": 91,
   "metadata": {},
   "outputs": [],
   "source": [
    "traingen = SiameseDataset(train_x, train_y, tag='train', transforms=transforms.Compose([transforms.ToTensor()]))\n",
    "trainloader = DataLoader(dataset=traingen,\n",
    "                         batch_size=32,\n",
    "                         pin_memory=False,\n",
    "                         drop_last=True,\n",
    "                         shuffle=True,\n",
    "                         num_workers=10)\n",
    "testgen = SiameseDataset(test_x, test_y, tag='test', transforms=transforms.Compose([transforms.ToTensor()]))\n",
    "testloader = DataLoader(dataset=testgen,\n",
    "                         batch_size=32,\n",
    "                         pin_memory=False,\n",
    "                         drop_last=True,\n",
    "                         shuffle=True,\n",
    "                         num_workers=10)"
   ]
  },
  {
   "cell_type": "markdown",
   "metadata": {},
   "source": [
    "# 检查生成器\n",
    "查看下生成器是否正确"
   ]
  },
  {
   "cell_type": "code",
   "execution_count": 92,
   "metadata": {},
   "outputs": [
    {
     "name": "stdout",
     "output_type": "stream",
     "text": [
      "torch.Size([32, 1, 28, 28]) torch.Size([32, 1, 28, 28]) tensor([ 0,  1,  1,  0,  0,  1,  1,  1,  0,  0,  0,  1,  1,  0,\n",
      "         0,  1,  1,  1,  1,  0,  1,  1,  1,  1,  0,  1,  0,  1,\n",
      "         1,  0,  0,  0])\n"
     ]
    }
   ],
   "source": [
    "temp = iter(trainloader)\n",
    "img1, img2, label = next(temp)\n",
    "print(img1.shape,img2.shape,label)"
   ]
  },
  {
   "cell_type": "code",
   "execution_count": 94,
   "metadata": {},
   "outputs": [
    {
     "data": {
      "image/png": "[encoded data removed]",
      "text/plain": [
       "<Figure size 360x360 with 2 Axes>"
      ]
     },
     "metadata": {},
     "output_type": "display_data"
    }
   ],
   "source": [
    "plt.figure(figsize=(5,5))\n",
    "plt.subplot(1,2,1)\n",
    "plt.imshow(img1[2][0].numpy())\n",
    "plt.subplot(1,2,2)\n",
    "plt.imshow(img2[2][0].numpy())\n",
    "plt.show()"
   ]
  },
  {
   "cell_type": "markdown",
   "metadata": {},
   "source": [
    "# 对比损失\n",
    "开始编写对比损失，用于训练\n",
    "\\begin{equation}\n",
    "ContrastiveLoss = \\frac{1}{2}\\sum y\\ast d^{2} + \\frac{1}{2}\\sum \\left ( 1-y \\right )\\ast (ReLu( margin -  d))^{2}\n",
    "\\label{eq:ContrastiveLoss}\n",
    "\\end{equation}\n",
    "其中d表示两个样本在空间上的欧式距离\n",
    "\\begin{equation}\n",
    "d = \\left \\| embedding_{1} - embedding_{2} \\right \\|\n",
    "\\label{eq:Euclidean distance}\n",
    "\\end{equation}\n",
    "\n",
    "从公式上可以看出，当y=1，也就是两个样本属于同类的时候，loss=y*d，这样迫使网络降低d的大小，当y=0，两个样本不属于同类，那么迫使d忘margin靠近，也就是距离尽量远，最终得到的结果就是类内距小（类内方差小，形成一个密集的簇），类间距趋于为margin"
   ]
  },
  {
   "cell_type": "code",
   "execution_count": 95,
   "metadata": {},
   "outputs": [],
   "source": [
    "class ContrastiveLoss(nn.Module):\n",
    "    def __init__(self, margin):\n",
    "        super(ContrastiveLoss, self).__init__()\n",
    "        self.margin = margin\n",
    "        \n",
    "    def forward(self, embed1, embed2, label):\n",
    "        Euclid_dis = (embed1 - embed2).pow(2).sum(1)\n",
    "        loss = 0.5 * (label * Euclid_dis) + 0.5 * (1 - label) * F.relu(self.margin - Euclid_dis).pow(2)\n",
    "        \n",
    "        return loss.mean()"
   ]
  },
  {
   "cell_type": "code",
   "execution_count": 96,
   "metadata": {},
   "outputs": [],
   "source": [
    "model = EmbeddingNet()\n",
    "criterion = ContrastiveLoss(margin=1)\n",
    "optimizer = torch.optim.Adam(model.parameters(), lr=0.001)"
   ]
  },
  {
   "cell_type": "code",
   "execution_count": 98,
   "metadata": {
    "scrolled": true
   },
   "outputs": [
    {
     "name": "stderr",
     "output_type": "stream",
     "text": [
      "100%|██████████| 1875/1875 [00:13<00:00, 142.83it/s]\n",
      "  0%|          | 0/625 [00:00<?, ?it/s]"
     ]
    },
    {
     "name": "stdout",
     "output_type": "stream",
     "text": [
      "############## taining ##############\n",
      "1/10, loss:0.045292938274641835\n",
      "############## taining ##############\n"
     ]
    },
    {
     "name": "stderr",
     "output_type": "stream",
     "text": [
      "100%|██████████| 625/625 [00:01<00:00, 329.25it/s]\n",
      "  0%|          | 0/1875 [00:00<?, ?it/s]"
     ]
    },
    {
     "name": "stdout",
     "output_type": "stream",
     "text": [
      "############## taining ##############\n",
      "1/10, loss:0.016553392502292992\n",
      "############## taining ##############\n"
     ]
    },
    {
     "name": "stderr",
     "output_type": "stream",
     "text": [
      "100%|██████████| 1875/1875 [00:12<00:00, 147.90it/s]\n",
      "  0%|          | 0/625 [00:00<?, ?it/s]"
     ]
    },
    {
     "name": "stdout",
     "output_type": "stream",
     "text": [
      "############## taining ##############\n",
      "2/10, loss:0.013336587599851192\n",
      "############## taining ##############\n"
     ]
    },
    {
     "name": "stderr",
     "output_type": "stream",
     "text": [
      "100%|██████████| 625/625 [00:01<00:00, 340.42it/s]\n",
      "  0%|          | 0/1875 [00:00<?, ?it/s]"
     ]
    },
    {
     "name": "stdout",
     "output_type": "stream",
     "text": [
      "############## taining ##############\n",
      "2/10, loss:0.009065443953126669\n",
      "############## taining ##############\n"
     ]
    },
    {
     "name": "stderr",
     "output_type": "stream",
     "text": [
      "100%|██████████| 1875/1875 [00:11<00:00, 163.00it/s]\n",
      "  0%|          | 0/625 [00:00<?, ?it/s]"
     ]
    },
    {
     "name": "stdout",
     "output_type": "stream",
     "text": [
      "############## taining ##############\n",
      "3/10, loss:0.008518986386666075\n",
      "############## taining ##############\n"
     ]
    },
    {
     "name": "stderr",
     "output_type": "stream",
     "text": [
      "100%|██████████| 625/625 [00:01<00:00, 320.37it/s]\n",
      "  0%|          | 0/1875 [00:00<?, ?it/s]"
     ]
    },
    {
     "name": "stdout",
     "output_type": "stream",
     "text": [
      "############## taining ##############\n",
      "3/10, loss:0.00912322435383685\n",
      "############## taining ##############\n"
     ]
    },
    {
     "name": "stderr",
     "output_type": "stream",
     "text": [
      "100%|██████████| 1875/1875 [00:12<00:00, 155.71it/s]\n",
      "  0%|          | 0/625 [00:00<?, ?it/s]"
     ]
    },
    {
     "name": "stdout",
     "output_type": "stream",
     "text": [
      "############## taining ##############\n",
      "4/10, loss:0.005924561382022997\n",
      "############## taining ##############\n"
     ]
    },
    {
     "name": "stderr",
     "output_type": "stream",
     "text": [
      "100%|██████████| 625/625 [00:02<00:00, 309.49it/s]\n",
      "  0%|          | 0/1875 [00:00<?, ?it/s]"
     ]
    },
    {
     "name": "stdout",
     "output_type": "stream",
     "text": [
      "############## taining ##############\n",
      "4/10, loss:0.009019613889814355\n",
      "############## taining ##############\n"
     ]
    },
    {
     "name": "stderr",
     "output_type": "stream",
     "text": [
      "100%|██████████| 1875/1875 [00:12<00:00, 148.48it/s]\n",
      "  0%|          | 0/625 [00:00<?, ?it/s]"
     ]
    },
    {
     "name": "stdout",
     "output_type": "stream",
     "text": [
      "############## taining ##############\n",
      "5/10, loss:0.0038454651392957504\n",
      "############## taining ##############\n"
     ]
    },
    {
     "name": "stderr",
     "output_type": "stream",
     "text": [
      "100%|██████████| 625/625 [00:01<00:00, 327.93it/s]\n",
      "  0%|          | 0/1875 [00:00<?, ?it/s]"
     ]
    },
    {
     "name": "stdout",
     "output_type": "stream",
     "text": [
      "############## taining ##############\n",
      "5/10, loss:0.006132525706739398\n",
      "############## taining ##############\n"
     ]
    },
    {
     "name": "stderr",
     "output_type": "stream",
     "text": [
      "100%|██████████| 1875/1875 [00:11<00:00, 159.76it/s]\n",
      "  0%|          | 0/625 [00:00<?, ?it/s]"
     ]
    },
    {
     "name": "stdout",
     "output_type": "stream",
     "text": [
      "############## taining ##############\n",
      "6/10, loss:0.004060930869150131\n",
      "############## taining ##############\n"
     ]
    },
    {
     "name": "stderr",
     "output_type": "stream",
     "text": [
      "100%|██████████| 625/625 [00:01<00:00, 337.87it/s]\n",
      "  0%|          | 0/1875 [00:00<?, ?it/s]"
     ]
    },
    {
     "name": "stdout",
     "output_type": "stream",
     "text": [
      "############## taining ##############\n",
      "6/10, loss:0.006851168476126622\n",
      "############## taining ##############\n"
     ]
    },
    {
     "name": "stderr",
     "output_type": "stream",
     "text": [
      "100%|██████████| 1875/1875 [00:11<00:00, 163.50it/s]\n",
      "  0%|          | 0/625 [00:00<?, ?it/s]"
     ]
    },
    {
     "name": "stdout",
     "output_type": "stream",
     "text": [
      "############## taining ##############\n",
      "7/10, loss:0.003111215924359082\n",
      "############## taining ##############\n"
     ]
    },
    {
     "name": "stderr",
     "output_type": "stream",
     "text": [
      "100%|██████████| 625/625 [00:01<00:00, 321.40it/s]\n",
      "  0%|          | 0/1875 [00:00<?, ?it/s]"
     ]
    },
    {
     "name": "stdout",
     "output_type": "stream",
     "text": [
      "############## taining ##############\n",
      "7/10, loss:0.006851974920136854\n",
      "############## taining ##############\n"
     ]
    },
    {
     "name": "stderr",
     "output_type": "stream",
     "text": [
      "100%|██████████| 1875/1875 [00:12<00:00, 152.27it/s]\n",
      "  0%|          | 0/625 [00:00<?, ?it/s]"
     ]
    },
    {
     "name": "stdout",
     "output_type": "stream",
     "text": [
      "############## taining ##############\n",
      "8/10, loss:0.002197194362373557\n",
      "############## taining ##############\n"
     ]
    },
    {
     "name": "stderr",
     "output_type": "stream",
     "text": [
      "100%|██████████| 625/625 [00:02<00:00, 305.91it/s]\n",
      "  0%|          | 0/1875 [00:00<?, ?it/s]"
     ]
    },
    {
     "name": "stdout",
     "output_type": "stream",
     "text": [
      "############## taining ##############\n",
      "8/10, loss:0.00843005817963858\n",
      "############## taining ##############\n"
     ]
    },
    {
     "name": "stderr",
     "output_type": "stream",
     "text": [
      "100%|██████████| 1875/1875 [00:11<00:00, 166.00it/s]\n",
      "  0%|          | 0/625 [00:00<?, ?it/s]"
     ]
    },
    {
     "name": "stdout",
     "output_type": "stream",
     "text": [
      "############## taining ##############\n",
      "9/10, loss:0.002275183981853964\n",
      "############## taining ##############\n"
     ]
    },
    {
     "name": "stderr",
     "output_type": "stream",
     "text": [
      "100%|██████████| 625/625 [00:01<00:00, 331.17it/s]\n",
      "  0%|          | 0/1875 [00:00<?, ?it/s]"
     ]
    },
    {
     "name": "stdout",
     "output_type": "stream",
     "text": [
      "############## taining ##############\n",
      "9/10, loss:0.006006137993838638\n",
      "############## taining ##############\n"
     ]
    },
    {
     "name": "stderr",
     "output_type": "stream",
     "text": [
      "100%|██████████| 1875/1875 [00:13<00:00, 144.23it/s]\n",
      "  0%|          | 0/625 [00:00<?, ?it/s]"
     ]
    },
    {
     "name": "stdout",
     "output_type": "stream",
     "text": [
      "############## taining ##############\n",
      "10/10, loss:0.0019203477624085887\n",
      "############## taining ##############\n"
     ]
    },
    {
     "name": "stderr",
     "output_type": "stream",
     "text": [
      "100%|██████████| 625/625 [00:01<00:00, 321.73it/s]"
     ]
    },
    {
     "name": "stdout",
     "output_type": "stream",
     "text": [
      "############## taining ##############\n",
      "10/10, loss:0.0064664891421212815\n",
      "############## taining ##############\n"
     ]
    },
    {
     "name": "stderr",
     "output_type": "stream",
     "text": [
      "\n"
     ]
    }
   ],
   "source": [
    "epochs = 10\n",
    "model = model.to(device)\n",
    "for i in range(epochs):\n",
    "    total_loss = 0\n",
    "    for (img1, img2, tag) in tqdm(trainloader):\n",
    "        img1 = img1.to(device)\n",
    "        img2 = img2.to(device)\n",
    "        tag = tag.to(device).type(torch.cuda.FloatTensor)\n",
    "        # print(tag)\n",
    "        embedding1 = model(img1)\n",
    "        embedding2 = model(img2)\n",
    "        loss = criterion(embedding1, embedding2, tag)\n",
    "        total_loss += loss.item()\n",
    "        optimizer.zero_grad()\n",
    "        loss.backward()\n",
    "        optimizer.step()\n",
    "        \n",
    "    print('############## taining ##############')\n",
    "    print('{}/{}, loss:{}'.format(i+1, epochs, total_loss / len(trainloader)))\n",
    "    print('############## taining ##############')\n",
    "    \n",
    "    model.eval()\n",
    "    with torch.no_grad():\n",
    "        test_total_loss = 0\n",
    "        for (img1, img2, tag) in tqdm(testloader):\n",
    "            img1 = img1.to(device)\n",
    "            img2 = img2.to(device)\n",
    "            tag = tag.to(device).type(torch.cuda.FloatTensor)\n",
    "            embedding1 = model(img1)\n",
    "            embedding2 = model(img2)\n",
    "            loss = criterion(embedding1, embedding2, tag)\n",
    "            test_total_loss += loss.item()\n",
    "        print('############## testing ##############')\n",
    "        print('{}/{}, loss:{}'.format(i+1, epochs, test_total_loss / len(testloader)))\n",
    "        print('############## testing ##############')"
   ]
  },
  {
   "cell_type": "code",
   "execution_count": 103,
   "metadata": {},
   "outputs": [
    {
     "data": {
      "image/png": "[encoded data removed]",
      "text/plain": [
       "<Figure size 720x720 with 1 Axes>"
      ]
     },
     "metadata": {},
     "output_type": "display_data"
    }
   ],
   "source": [
    "# 注意：这里调用下分类的生成器，因为主要是为了提取特征，孪生的生成器不适用这里\n",
    "emebddings, labels = extract_embeddings(dataloader=testloader, model=model)\n",
    "plot_embeddings(emebddings, labels)"
   ]
  },
  {
   "cell_type": "markdown",
   "metadata": {},
   "source": [
    "# Dataloader for Triplet"
   ]
  },
  {
   "cell_type": "code",
   "execution_count": 107,
   "metadata": {},
   "outputs": [],
   "source": [
    "'''\n",
    "Triplet翻译过来是三元组的意思，分别表示选中样本，一个正样本，一个负样本\n",
    "训练：\n",
    "同类的距离越近越好，异类的距离越远越好\n",
    "'''\n",
    "import random\n",
    "class TripletDataset(Dataset):\n",
    "    def __init__(self, images, labels, tag='train', transforms=None):\n",
    "        self.data = images\n",
    "        self.labels = labels\n",
    "        self.tag = tag\n",
    "        self.transforms = transforms\n",
    "        self.label_set = set(labels)\n",
    "        self.label2index = { i:list(np.where(labels==i)[0]) for i in self.label_set}\n",
    "        \n",
    "        if tag != 'train':\n",
    "            '''\n",
    "            依次遍历整个数据集，第i个数据，作为它的正pair，随机从所有该类别内选取一个，负样本随机选取一个异类，再随机选取其中一个样本。\n",
    "            '''\n",
    "            triplets = [[i, \n",
    "                        random.choice(self.label2index[self.labels[i]]), \n",
    "                        random.choice(self.label2index[random.choice(list(self.label_set - set([self.labels[i]])))])\n",
    "                        ] \n",
    "                        for i in range(self.data.shape[0])]\n",
    "            \n",
    "\n",
    "            \n",
    "            self.test_triplet = triplets\n",
    "        \n",
    "    def __getitem__(self, index):\n",
    "        if self.tag == 'train':\n",
    "            img1 = self.data[index]\n",
    "            label = self.labels[index]\n",
    "            \n",
    "            postive_index = index\n",
    "            while postive_index == index:\n",
    "                postive_index = random.choice(self.label2index[label])\n",
    "            img2 = self.data[postive_index\n",
    "                            ]\n",
    "            negtive_label = random.choice(list(self.label_set - set([label])))\n",
    "            negtive_index = random.choice(self.label2index[negtive_label])\n",
    "            img3 = self.data[negtive_index]\n",
    "            \n",
    "        else:\n",
    "            sample = self.test_triplet[index]\n",
    "            img1 = self.data[sample[0]]\n",
    "            img2 = self.data[sample[1]]\n",
    "            img3 = self.data[sample[2]]\n",
    "        \n",
    "        if self.transforms:\n",
    "            img1 = self.transforms(Image.fromarray(img1))\n",
    "            img2 = self.transforms(Image.fromarray(img2))\n",
    "            img3 = self.transforms(Image.fromarray(img3))\n",
    "\n",
    "            \n",
    "        return img1, img2, img3\n",
    "    \n",
    "    def __len__(self):\n",
    "        if self.tag == 'train':\n",
    "            return len(self.data)\n",
    "        else:\n",
    "            return len(self.test_triplet)\n",
    "            \n",
    "            "
   ]
  },
  {
   "cell_type": "code",
   "execution_count": 108,
   "metadata": {},
   "outputs": [],
   "source": [
    "traingen = TripletDataset(train_x, train_y, tag='train', transforms=transforms.Compose([transforms.ToTensor()]))\n",
    "trainloader = DataLoader(dataset=traingen,\n",
    "                         batch_size=32,\n",
    "                         pin_memory=False,\n",
    "                         drop_last=True,\n",
    "                         shuffle=True,\n",
    "                         num_workers=10)\n",
    "testgen = TripletDataset(test_x, test_y, tag='test', transforms=transforms.Compose([transforms.ToTensor()]))\n",
    "testloader = DataLoader(dataset=testgen,\n",
    "                         batch_size=32,\n",
    "                         pin_memory=False,\n",
    "                         drop_last=True,\n",
    "                         shuffle=True,\n",
    "                         num_workers=10)"
   ]
  },
  {
   "cell_type": "code",
   "execution_count": 109,
   "metadata": {},
   "outputs": [
    {
     "name": "stdout",
     "output_type": "stream",
     "text": [
      "torch.Size([32, 1, 28, 28]) torch.Size([32, 1, 28, 28]) torch.Size([32, 1, 28, 28])\n"
     ]
    }
   ],
   "source": [
    "temp = iter(trainloader)\n",
    "img1, img2, img3 = next(temp)\n",
    "print(img1.shape, img2.shape, img3.shape)"
   ]
  },
  {
   "cell_type": "markdown",
   "metadata": {},
   "source": [
    "# TripletLoss\n",
    "开始编写triplet loss  \n",
    "\n",
    "\\begin{equation}\n",
    "TripletLoss = max(0, \\left \\| embedding_{anchor} - embedding_{postive} \\right \\|+ margin - \\left \\| embedding_{anchor} - embedding_{negtive} \\right \\|)\n",
    "\\label{eq:TripletLoss}\n",
    "\\end{equation}  \n",
    "\n",
    "该损失有三个输入，第一个anchor为锚点，postive为它的正样本，negtive为它的负样本，这个损失的思想就是锚点与负样本的距离相比与正样本的距离，始终都要大于/等于margin，它只在乎类间距，类内距不关心，"
   ]
  },
  {
   "cell_type": "code",
   "execution_count": 113,
   "metadata": {},
   "outputs": [],
   "source": [
    "class TripleLoss(nn.Module):\n",
    "    def __init__(self, margin):\n",
    "        super(TripleLoss, self).__init__()\n",
    "        self.margin = margin\n",
    "        \n",
    "    def forward(self, a, p, n):\n",
    "        ap = (a - p).pow(2).sum(1).sqrt()\n",
    "        an = (a - n).pow(2).sum(1).sqrt()\n",
    "        loss = F.relu(self.margin + ap - an)\n",
    "        return loss.mean()"
   ]
  },
  {
   "cell_type": "code",
   "execution_count": 114,
   "metadata": {},
   "outputs": [],
   "source": [
    "model = EmbeddingNet()\n",
    "criterion = TripleLoss(margin=1)\n",
    "optimizer = torch.optim.Adam(model.parameters(), lr=0.001)"
   ]
  },
  {
   "cell_type": "code",
   "execution_count": 115,
   "metadata": {},
   "outputs": [
    {
     "name": "stderr",
     "output_type": "stream",
     "text": [
      "100%|██████████| 1875/1875 [00:14<00:00, 125.03it/s]\n",
      "  0%|          | 0/1875 [00:00<?, ?it/s]"
     ]
    },
    {
     "name": "stdout",
     "output_type": "stream",
     "text": [
      "############## taining ##############\n",
      "1/10, loss:0.12208410532176495\n",
      "############## taining ##############\n"
     ]
    },
    {
     "name": "stderr",
     "output_type": "stream",
     "text": [
      "100%|██████████| 1875/1875 [00:05<00:00, 351.39it/s]\n",
      "  0%|          | 0/1875 [00:00<?, ?it/s]"
     ]
    },
    {
     "name": "stdout",
     "output_type": "stream",
     "text": [
      "############## testing ##############\n",
      "1/10, loss:0.27905179804955155\n",
      "############## testing ##############\n"
     ]
    },
    {
     "name": "stderr",
     "output_type": "stream",
     "text": [
      "100%|██████████| 1875/1875 [00:14<00:00, 125.35it/s]\n",
      "  0%|          | 0/1875 [00:00<?, ?it/s]"
     ]
    },
    {
     "name": "stdout",
     "output_type": "stream",
     "text": [
      "############## taining ##############\n",
      "2/10, loss:0.03900443653166294\n",
      "############## taining ##############\n"
     ]
    },
    {
     "name": "stderr",
     "output_type": "stream",
     "text": [
      "100%|██████████| 1875/1875 [00:05<00:00, 347.08it/s]\n",
      "  0%|          | 0/1875 [00:00<?, ?it/s]"
     ]
    },
    {
     "name": "stdout",
     "output_type": "stream",
     "text": [
      "############## testing ##############\n",
      "2/10, loss:0.17890407632773694\n",
      "############## testing ##############\n"
     ]
    },
    {
     "name": "stderr",
     "output_type": "stream",
     "text": [
      "100%|██████████| 1875/1875 [00:14<00:00, 133.82it/s]\n",
      "  0%|          | 0/1875 [00:00<?, ?it/s]"
     ]
    },
    {
     "name": "stdout",
     "output_type": "stream",
     "text": [
      "############## taining ##############\n",
      "3/10, loss:0.02682849454085032\n",
      "############## taining ##############\n"
     ]
    },
    {
     "name": "stderr",
     "output_type": "stream",
     "text": [
      "100%|██████████| 1875/1875 [00:05<00:00, 349.89it/s]\n",
      "  0%|          | 0/1875 [00:00<?, ?it/s]"
     ]
    },
    {
     "name": "stdout",
     "output_type": "stream",
     "text": [
      "############## testing ##############\n",
      "3/10, loss:0.13524155137248528\n",
      "############## testing ##############\n"
     ]
    },
    {
     "name": "stderr",
     "output_type": "stream",
     "text": [
      "100%|██████████| 1875/1875 [00:14<00:00, 129.51it/s]\n",
      "  0%|          | 0/1875 [00:00<?, ?it/s]"
     ]
    },
    {
     "name": "stdout",
     "output_type": "stream",
     "text": [
      "############## taining ##############\n",
      "4/10, loss:0.023869294673204422\n",
      "############## taining ##############\n"
     ]
    },
    {
     "name": "stderr",
     "output_type": "stream",
     "text": [
      "100%|██████████| 1875/1875 [00:05<00:00, 326.87it/s]\n",
      "  0%|          | 0/1875 [00:00<?, ?it/s]"
     ]
    },
    {
     "name": "stdout",
     "output_type": "stream",
     "text": [
      "############## testing ##############\n",
      "4/10, loss:0.1075572249216911\n",
      "############## testing ##############\n"
     ]
    },
    {
     "name": "stderr",
     "output_type": "stream",
     "text": [
      "100%|██████████| 1875/1875 [00:13<00:00, 137.60it/s]\n",
      "  0%|          | 0/1875 [00:00<?, ?it/s]"
     ]
    },
    {
     "name": "stdout",
     "output_type": "stream",
     "text": [
      "############## taining ##############\n",
      "5/10, loss:0.020457658395171167\n",
      "############## taining ##############\n"
     ]
    },
    {
     "name": "stderr",
     "output_type": "stream",
     "text": [
      "100%|██████████| 1875/1875 [00:05<00:00, 358.80it/s]\n",
      "  0%|          | 0/1875 [00:00<?, ?it/s]"
     ]
    },
    {
     "name": "stdout",
     "output_type": "stream",
     "text": [
      "############## testing ##############\n",
      "5/10, loss:0.09015880267804441\n",
      "############## testing ##############\n"
     ]
    },
    {
     "name": "stderr",
     "output_type": "stream",
     "text": [
      "100%|██████████| 1875/1875 [00:15<00:00, 122.28it/s]\n",
      "  0%|          | 0/1875 [00:00<?, ?it/s]"
     ]
    },
    {
     "name": "stdout",
     "output_type": "stream",
     "text": [
      "############## taining ##############\n",
      "6/10, loss:0.017754235817988715\n",
      "############## taining ##############\n"
     ]
    },
    {
     "name": "stderr",
     "output_type": "stream",
     "text": [
      "100%|██████████| 1875/1875 [00:05<00:00, 319.50it/s]\n",
      "  0%|          | 0/1875 [00:00<?, ?it/s]"
     ]
    },
    {
     "name": "stdout",
     "output_type": "stream",
     "text": [
      "############## testing ##############\n",
      "6/10, loss:0.08647458577074875\n",
      "############## testing ##############\n"
     ]
    },
    {
     "name": "stderr",
     "output_type": "stream",
     "text": [
      "100%|██████████| 1875/1875 [00:16<00:00, 117.14it/s]\n",
      "  0%|          | 0/1875 [00:00<?, ?it/s]"
     ]
    },
    {
     "name": "stdout",
     "output_type": "stream",
     "text": [
      "############## taining ##############\n",
      "7/10, loss:0.014819378702839215\n",
      "############## taining ##############\n"
     ]
    },
    {
     "name": "stderr",
     "output_type": "stream",
     "text": [
      "100%|██████████| 1875/1875 [00:05<00:00, 323.46it/s]\n",
      "  0%|          | 0/1875 [00:00<?, ?it/s]"
     ]
    },
    {
     "name": "stdout",
     "output_type": "stream",
     "text": [
      "############## testing ##############\n",
      "7/10, loss:0.07458421202877966\n",
      "############## testing ##############\n"
     ]
    },
    {
     "name": "stderr",
     "output_type": "stream",
     "text": [
      "100%|██████████| 1875/1875 [00:16<00:00, 113.46it/s]\n",
      "  0%|          | 0/1875 [00:00<?, ?it/s]"
     ]
    },
    {
     "name": "stdout",
     "output_type": "stream",
     "text": [
      "############## taining ##############\n",
      "8/10, loss:0.014051917548974354\n",
      "############## taining ##############\n"
     ]
    },
    {
     "name": "stderr",
     "output_type": "stream",
     "text": [
      "100%|██████████| 1875/1875 [00:05<00:00, 333.16it/s]\n",
      "  0%|          | 0/1875 [00:00<?, ?it/s]"
     ]
    },
    {
     "name": "stdout",
     "output_type": "stream",
     "text": [
      "############## testing ##############\n",
      "8/10, loss:0.06982268569155191\n",
      "############## testing ##############\n"
     ]
    },
    {
     "name": "stderr",
     "output_type": "stream",
     "text": [
      "100%|██████████| 1875/1875 [00:15<00:00, 121.77it/s]\n",
      "  0%|          | 0/1875 [00:00<?, ?it/s]"
     ]
    },
    {
     "name": "stdout",
     "output_type": "stream",
     "text": [
      "############## taining ##############\n",
      "9/10, loss:0.012636105716228484\n",
      "############## taining ##############\n"
     ]
    },
    {
     "name": "stderr",
     "output_type": "stream",
     "text": [
      "100%|██████████| 1875/1875 [00:05<00:00, 348.66it/s]\n",
      "  0%|          | 0/1875 [00:00<?, ?it/s]"
     ]
    },
    {
     "name": "stdout",
     "output_type": "stream",
     "text": [
      "############## testing ##############\n",
      "9/10, loss:0.10538623517809007\n",
      "############## testing ##############\n"
     ]
    },
    {
     "name": "stderr",
     "output_type": "stream",
     "text": [
      "100%|██████████| 1875/1875 [00:14<00:00, 125.98it/s]\n",
      "  0%|          | 0/1875 [00:00<?, ?it/s]"
     ]
    },
    {
     "name": "stdout",
     "output_type": "stream",
     "text": [
      "############## taining ##############\n",
      "10/10, loss:0.01255327506562074\n",
      "############## taining ##############\n"
     ]
    },
    {
     "name": "stderr",
     "output_type": "stream",
     "text": [
      "100%|██████████| 1875/1875 [00:05<00:00, 325.33it/s]"
     ]
    },
    {
     "name": "stdout",
     "output_type": "stream",
     "text": [
      "############## testing ##############\n",
      "10/10, loss:0.0712611548578701\n",
      "############## testing ##############\n"
     ]
    },
    {
     "name": "stderr",
     "output_type": "stream",
     "text": [
      "\n"
     ]
    }
   ],
   "source": [
    "epochs = 10\n",
    "model = model.to(device)\n",
    "for i in range(epochs):\n",
    "    total_loss = 0\n",
    "    for (img1, img2, img3) in tqdm(trainloader):\n",
    "        img1 = img1.to(device)\n",
    "        img2 = img2.to(device)\n",
    "        img3 = img3.to(device)\n",
    "        # print(tag)\n",
    "        a = model(img1)\n",
    "        p = model(img2)\n",
    "        n = model(img3)\n",
    "        loss = criterion(a, p, n)\n",
    "        total_loss += loss.item()\n",
    "        optimizer.zero_grad()\n",
    "        loss.backward()\n",
    "        optimizer.step()\n",
    "        \n",
    "    print('############## taining ##############')\n",
    "    print('{}/{}, loss:{}'.format(i+1, epochs, total_loss / len(trainloader)))\n",
    "    print('############## taining ##############')\n",
    "    \n",
    "    model.eval()\n",
    "    with torch.no_grad():\n",
    "        test_total_loss = 0\n",
    "        for (img1, img2, img3) in tqdm(trainloader):\n",
    "            img1 = img1.to(device)\n",
    "            img2 = img2.to(device)\n",
    "            img3 = img3.to(device)\n",
    "            # print(tag)\n",
    "            a = model(img1)\n",
    "            p = model(img2)\n",
    "            n = model(img3)\n",
    "            loss = criterion(a, p, n)\n",
    "            test_total_loss += loss.item()\n",
    "        print('############## testing ##############')\n",
    "        print('{}/{}, loss:{}'.format(i+1, epochs, test_total_loss / len(testloader)))\n",
    "        print('############## testing ##############')"
   ]
  },
  {
   "cell_type": "code",
   "execution_count": 117,
   "metadata": {},
   "outputs": [
    {
     "data": {
      "image/png": "[encoded data removed]",
      "text/plain": [
       "<Figure size 720x720 with 1 Axes>"
      ]
     },
     "metadata": {},
     "output_type": "display_data"
    }
   ],
   "source": [
    "embeddings, labels = extract_embeddings(testloader, model)\n",
    "plot_embeddings(embeddings, labels)"
   ]
  },
  {
   "cell_type": "code",
   "execution_count": null,
   "metadata": {},
   "outputs": [],
   "source": []
  }
 ],
 "metadata": {
  "kernelspec": {
   "display_name": "Python 3",
   "language": "python",
   "name": "python3"
  },
  "language_info": {
   "codemirror_mode": {
    "name": "ipython",
    "version": 3
   },
   "file_extension": ".py",
   "mimetype": "text/x-python",
   "name": "python",
   "nbconvert_exporter": "python",
   "pygments_lexer": "ipython3",
   "version": "3.6.8"
  }
 },
 "nbformat": 4,
 "nbformat_minor": 2
}
