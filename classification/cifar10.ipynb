{
 "cells": [
  {
   "cell_type": "code",
   "execution_count": 1,
   "metadata": {},
   "outputs": [
    {
     "name": "stderr",
     "output_type": "stream",
     "text": [
      "/usr/local/lib/python3.6/dist-packages/h5py/__init__.py:36: FutureWarning: Conversion of the second argument of issubdtype from `float` to `np.floating` is deprecated. In future, it will be treated as `np.float64 == np.dtype(float).type`.\n",
      "  from ._conv import register_converters as _register_converters\n",
      "Using TensorFlow backend.\n"
     ]
    }
   ],
   "source": [
    "import os\n",
    "import sys\n",
    "import cv2\n",
    "import torch\n",
    "import numpy as np\n",
    "from tqdm import tqdm\n",
    "from torch.utils.data import Dataset,DataLoader\n",
    "from torchvision import transforms,models\n",
    "from PIL import Image\n",
    "from keras.datasets import cifar10\n",
    "\n",
    "import matplotlib.pyplot as plt\n",
    "%matplotlib inline"
   ]
  },
  {
   "cell_type": "markdown",
   "metadata": {},
   "source": [
    "# 加载数据\n",
    "可视化数据"
   ]
  },
  {
   "cell_type": "code",
   "execution_count": 2,
   "metadata": {},
   "outputs": [],
   "source": [
    "train, test = cifar10.load_data()\n",
    "train_x, train_y, test_x, test_y = train[0], train[1].reshape(-1), test[0], test[1].reshape(-1)"
   ]
  },
  {
   "cell_type": "code",
   "execution_count": 3,
   "metadata": {},
   "outputs": [
    {
     "data": {
      "image/png": "[encoded data removed]",
      "text/plain": [
       "<Figure size 360x360 with 2 Axes>"
      ]
     },
     "metadata": {},
     "output_type": "display_data"
    }
   ],
   "source": [
    "plt.figure(figsize=(5,5))\n",
    "plt.subplot(1,2,1)\n",
    "plt.imshow(train_x[100])\n",
    "plt.title(train_y[100])\n",
    "plt.subplot(1,2,2)\n",
    "plt.imshow(test_x[100])\n",
    "plt.title(test_y[100])\n",
    "plt.show()"
   ]
  },
  {
   "cell_type": "markdown",
   "metadata": {},
   "source": [
    "# 编写dataloader\n",
    "数据生成器，用于训练"
   ]
  },
  {
   "cell_type": "code",
   "execution_count": 4,
   "metadata": {},
   "outputs": [],
   "source": [
    "class DataGen(Dataset):\n",
    "    def __init__(self, data, label, transforms=None):\n",
    "        self.data = data\n",
    "        self.label = label\n",
    "        self.transforms = transforms\n",
    "        \n",
    "    def __getitem__(self, index):\n",
    "        img = self.data[index]\n",
    "        tag = self.label[index]\n",
    "        if self.transforms:\n",
    "            img = Image.fromarray(img.astype('uint8'))\n",
    "            img = self.transforms(img)\n",
    "        return img, tag\n",
    "\n",
    "    def __len__(self):\n",
    "        return self.data.shape[0]"
   ]
  },
  {
   "cell_type": "code",
   "execution_count": 5,
   "metadata": {},
   "outputs": [],
   "source": [
    "traingen = DataGen(train_x, train_y, transforms=transforms.Compose([transforms.RandomHorizontalFlip(p=0.5),\n",
    "                                                                    transforms.RandomRotation(degrees=20),\n",
    "                                                                    transforms.RandomVerticalFlip(p=0.5),\n",
    "                                                                    transforms.ToTensor()]))\n",
    "trainloader = DataLoader(dataset=traingen,\n",
    "                         batch_size=32,\n",
    "                         pin_memory=False,\n",
    "                         drop_last=False,\n",
    "                         shuffle=True,\n",
    "                         num_workers=10)\n",
    "testgen = DataGen(test_x, test_y, transforms=transforms.Compose([transforms.ToTensor()]))\n",
    "testloader = DataLoader(dataset=testgen,\n",
    "                         batch_size=32,\n",
    "                         pin_memory=False,\n",
    "                         drop_last=False,\n",
    "                         shuffle=True,\n",
    "                         num_workers=10)"
   ]
  },
  {
   "cell_type": "markdown",
   "metadata": {},
   "source": [
    "## 测试dataloader"
   ]
  },
  {
   "cell_type": "code",
   "execution_count": 6,
   "metadata": {},
   "outputs": [
    {
     "name": "stdout",
     "output_type": "stream",
     "text": [
      "img shape torch.Size([32, 3, 32, 32]) tag shape torch.Size([32])\n"
     ]
    }
   ],
   "source": [
    "loader = iter(trainloader)\n",
    "img, tag = next(loader)\n",
    "print('img shape',img.shape,'tag shape',tag.shape)"
   ]
  },
  {
   "cell_type": "markdown",
   "metadata": {},
   "source": [
    "# 创建模型"
   ]
  },
  {
   "cell_type": "code",
   "execution_count": 7,
   "metadata": {},
   "outputs": [],
   "source": [
    "# 等价于删除某个层\n",
    "class Identity(torch.nn.Module):\n",
    "    def __init__(self):\n",
    "        super(Identity, self).__init__()\n",
    "        \n",
    "    def forward(self, x):\n",
    "        return x\n",
    "\n",
    "\n",
    "def resnet18():\n",
    "    res18 = models.resnet18(pretrained=True)\n",
    "    res18.fc = Identity()  # 最后一层全连接删除\n",
    "    res18.avgpool = Identity() # 全局平均池化也需要更改，原始的224降低32x，现在32降低32x成了1\n",
    "    return res18\n",
    "    \n",
    "    \n",
    "class ResNet18(torch.nn.Module):\n",
    "    def __init__(self, categroies):\n",
    "        super(ResNet18, self).__init__()\n",
    "        self.resnet18 = resnet18()\n",
    "        self.fc = torch.nn.Linear(512, categroies)\n",
    "        \n",
    "    def forward(self, x):\n",
    "        x = self.resnet18(x)\n",
    "        x = self.fc(x)\n",
    "        return x\n"
   ]
  },
  {
   "cell_type": "code",
   "execution_count": 8,
   "metadata": {},
   "outputs": [],
   "source": [
    "model = ResNet18(10)\n",
    "# 交叉熵内部做softmax，所以模型的最后一层不需要加softmax激活函数\n",
    "criterion = torch.nn.CrossEntropyLoss()\n",
    "# 做微调，那么最后一层全连接学习率设大一些，base model则设小一些\n",
    "param_groups = [\n",
    "    {'params':model.fc.parameters(),'lr':.001},\n",
    "    {'params':model.resnet18.parameters(),'lr':.0001},\n",
    "]\n",
    "# adam默认是1e-3的学习率，如果没有在groups中设置的话，则会是默认，设置了的话就会更新为设置的\n",
    "optimizer = torch.optim.Adam(params=param_groups)"
   ]
  },
  {
   "cell_type": "code",
   "execution_count": 9,
   "metadata": {},
   "outputs": [
    {
     "data": {
      "text/plain": [
       "torch.Size([1, 10])"
      ]
     },
     "execution_count": 9,
     "metadata": {},
     "output_type": "execute_result"
    }
   ],
   "source": [
    "model.eval() # 模型训练阶段如果含有bn层的话，是无法使用batch_size = 1\n",
    "test = model(torch.rand(1,3,32,32))\n",
    "test.size()"
   ]
  },
  {
   "cell_type": "markdown",
   "metadata": {},
   "source": [
    "# 开始训练"
   ]
  },
  {
   "cell_type": "code",
   "execution_count": 10,
   "metadata": {
    "scrolled": true
   },
   "outputs": [
    {
     "name": "stderr",
     "output_type": "stream",
     "text": [
      "100%|██████████| 1563/1563 [00:43<00:00, 36.21it/s]\n",
      "  0%|          | 0/313 [00:00<?, ?it/s]"
     ]
    },
    {
     "name": "stdout",
     "output_type": "stream",
     "text": [
      "############## taining ##############\n",
      "1/10, loss:0.6325461864471436, training Accuracy:0.54392\n",
      "############## taining ##############\n"
     ]
    },
    {
     "name": "stderr",
     "output_type": "stream",
     "text": [
      "100%|██████████| 313/313 [00:02<00:00, 151.03it/s]\n",
      "  0%|          | 0/1563 [00:00<?, ?it/s]"
     ]
    },
    {
     "name": "stdout",
     "output_type": "stream",
     "text": [
      "############## testing ##############\n",
      "testing Average Accuracy is 0.6565\n",
      "############## testing ##############\n"
     ]
    },
    {
     "name": "stderr",
     "output_type": "stream",
     "text": [
      "100%|██████████| 1563/1563 [00:43<00:00, 36.22it/s]\n",
      "  0%|          | 0/313 [00:00<?, ?it/s]"
     ]
    },
    {
     "name": "stdout",
     "output_type": "stream",
     "text": [
      "############## taining ##############\n",
      "2/10, loss:1.0968945026397705, training Accuracy:0.64764\n",
      "############## taining ##############\n"
     ]
    },
    {
     "name": "stderr",
     "output_type": "stream",
     "text": [
      "100%|██████████| 313/313 [00:02<00:00, 147.35it/s]\n",
      "  0%|          | 0/1563 [00:00<?, ?it/s]"
     ]
    },
    {
     "name": "stdout",
     "output_type": "stream",
     "text": [
      "############## testing ##############\n",
      "testing Average Accuracy is 0.6634\n",
      "############## testing ##############\n"
     ]
    },
    {
     "name": "stderr",
     "output_type": "stream",
     "text": [
      "100%|██████████| 1563/1563 [00:43<00:00, 36.32it/s]\n",
      "  0%|          | 0/313 [00:00<?, ?it/s]"
     ]
    },
    {
     "name": "stdout",
     "output_type": "stream",
     "text": [
      "############## taining ##############\n",
      "3/10, loss:0.9575943946838379, training Accuracy:0.6843\n",
      "############## taining ##############\n"
     ]
    },
    {
     "name": "stderr",
     "output_type": "stream",
     "text": [
      "100%|██████████| 313/313 [00:02<00:00, 144.13it/s]\n",
      "  0%|          | 0/1563 [00:00<?, ?it/s]"
     ]
    },
    {
     "name": "stdout",
     "output_type": "stream",
     "text": [
      "############## testing ##############\n",
      "testing Average Accuracy is 0.7191\n",
      "############## testing ##############\n"
     ]
    },
    {
     "name": "stderr",
     "output_type": "stream",
     "text": [
      "100%|██████████| 1563/1563 [00:43<00:00, 36.23it/s]\n",
      "  0%|          | 0/313 [00:00<?, ?it/s]"
     ]
    },
    {
     "name": "stdout",
     "output_type": "stream",
     "text": [
      "############## taining ##############\n",
      "4/10, loss:1.037312388420105, training Accuracy:0.70872\n",
      "############## taining ##############\n"
     ]
    },
    {
     "name": "stderr",
     "output_type": "stream",
     "text": [
      "100%|██████████| 313/313 [00:02<00:00, 156.25it/s]\n",
      "  0%|          | 0/1563 [00:00<?, ?it/s]"
     ]
    },
    {
     "name": "stdout",
     "output_type": "stream",
     "text": [
      "############## testing ##############\n",
      "testing Average Accuracy is 0.7296\n",
      "############## testing ##############\n"
     ]
    },
    {
     "name": "stderr",
     "output_type": "stream",
     "text": [
      "100%|██████████| 1563/1563 [00:43<00:00, 36.19it/s]\n",
      "  0%|          | 0/313 [00:00<?, ?it/s]"
     ]
    },
    {
     "name": "stdout",
     "output_type": "stream",
     "text": [
      "############## taining ##############\n",
      "5/10, loss:0.4431699812412262, training Accuracy:0.7225\n",
      "############## taining ##############\n"
     ]
    },
    {
     "name": "stderr",
     "output_type": "stream",
     "text": [
      "100%|██████████| 313/313 [00:02<00:00, 151.49it/s]\n",
      "  0%|          | 0/1563 [00:00<?, ?it/s]"
     ]
    },
    {
     "name": "stdout",
     "output_type": "stream",
     "text": [
      "############## testing ##############\n",
      "testing Average Accuracy is 0.731\n",
      "############## testing ##############\n"
     ]
    },
    {
     "name": "stderr",
     "output_type": "stream",
     "text": [
      "100%|██████████| 1563/1563 [00:43<00:00, 36.13it/s]\n",
      "  0%|          | 0/313 [00:00<?, ?it/s]"
     ]
    },
    {
     "name": "stdout",
     "output_type": "stream",
     "text": [
      "############## taining ##############\n",
      "6/10, loss:0.9629826545715332, training Accuracy:0.73672\n",
      "############## taining ##############\n"
     ]
    },
    {
     "name": "stderr",
     "output_type": "stream",
     "text": [
      "100%|██████████| 313/313 [00:02<00:00, 143.64it/s]\n",
      "  0%|          | 0/1563 [00:00<?, ?it/s]"
     ]
    },
    {
     "name": "stdout",
     "output_type": "stream",
     "text": [
      "############## testing ##############\n",
      "testing Average Accuracy is 0.7434\n",
      "############## testing ##############\n"
     ]
    },
    {
     "name": "stderr",
     "output_type": "stream",
     "text": [
      "100%|██████████| 1563/1563 [00:43<00:00, 36.23it/s]\n",
      "  0%|          | 0/313 [00:00<?, ?it/s]"
     ]
    },
    {
     "name": "stdout",
     "output_type": "stream",
     "text": [
      "############## taining ##############\n",
      "7/10, loss:0.4655568301677704, training Accuracy:0.7488\n",
      "############## taining ##############\n"
     ]
    },
    {
     "name": "stderr",
     "output_type": "stream",
     "text": [
      "100%|██████████| 313/313 [00:02<00:00, 155.48it/s]\n",
      "  0%|          | 0/1563 [00:00<?, ?it/s]"
     ]
    },
    {
     "name": "stdout",
     "output_type": "stream",
     "text": [
      "############## testing ##############\n",
      "testing Average Accuracy is 0.7664\n",
      "############## testing ##############\n"
     ]
    },
    {
     "name": "stderr",
     "output_type": "stream",
     "text": [
      "100%|██████████| 1563/1563 [00:43<00:00, 36.10it/s]\n",
      "  0%|          | 0/313 [00:00<?, ?it/s]"
     ]
    },
    {
     "name": "stdout",
     "output_type": "stream",
     "text": [
      "############## taining ##############\n",
      "8/10, loss:0.8745599985122681, training Accuracy:0.75936\n",
      "############## taining ##############\n"
     ]
    },
    {
     "name": "stderr",
     "output_type": "stream",
     "text": [
      "100%|██████████| 313/313 [00:02<00:00, 141.43it/s]\n",
      "  0%|          | 0/1563 [00:00<?, ?it/s]"
     ]
    },
    {
     "name": "stdout",
     "output_type": "stream",
     "text": [
      "############## testing ##############\n",
      "testing Average Accuracy is 0.7675\n",
      "############## testing ##############\n"
     ]
    },
    {
     "name": "stderr",
     "output_type": "stream",
     "text": [
      "100%|██████████| 1563/1563 [00:43<00:00, 36.11it/s]\n",
      "  0%|          | 0/313 [00:00<?, ?it/s]"
     ]
    },
    {
     "name": "stdout",
     "output_type": "stream",
     "text": [
      "############## taining ##############\n",
      "9/10, loss:0.5323635339736938, training Accuracy:0.76838\n",
      "############## taining ##############\n"
     ]
    },
    {
     "name": "stderr",
     "output_type": "stream",
     "text": [
      "100%|██████████| 313/313 [00:02<00:00, 145.87it/s]\n",
      "  0%|          | 0/1563 [00:00<?, ?it/s]"
     ]
    },
    {
     "name": "stdout",
     "output_type": "stream",
     "text": [
      "############## testing ##############\n",
      "testing Average Accuracy is 0.7637\n",
      "############## testing ##############\n"
     ]
    },
    {
     "name": "stderr",
     "output_type": "stream",
     "text": [
      "100%|██████████| 1563/1563 [00:43<00:00, 36.26it/s]\n",
      "  0%|          | 0/313 [00:00<?, ?it/s]"
     ]
    },
    {
     "name": "stdout",
     "output_type": "stream",
     "text": [
      "############## taining ##############\n",
      "10/10, loss:0.40657275915145874, training Accuracy:0.77724\n",
      "############## taining ##############\n"
     ]
    },
    {
     "name": "stderr",
     "output_type": "stream",
     "text": [
      "100%|██████████| 313/313 [00:02<00:00, 145.49it/s]"
     ]
    },
    {
     "name": "stdout",
     "output_type": "stream",
     "text": [
      "############## testing ##############\n",
      "testing Average Accuracy is 0.7709\n",
      "############## testing ##############\n"
     ]
    },
    {
     "name": "stderr",
     "output_type": "stream",
     "text": [
      "\n"
     ]
    }
   ],
   "source": [
    "epochs = 10\n",
    "device = torch.device('cuda:0' if torch.cuda.is_available() else 'cpu')\n",
    "model = model.to(device)\n",
    "for i in range(epochs):\n",
    "    train_correct = 0\n",
    "    train_total = 0\n",
    "    for (img, tag) in tqdm(trainloader):\n",
    "        img = img.to(device)\n",
    "        tag = tag.to(device).type(torch.cuda.LongTensor)\n",
    "        # print(tag)\n",
    "        output = model(img)\n",
    "        _, predicted = torch.max(output.data, 1)\n",
    "        train_correct += (predicted == tag).sum().item()\n",
    "        train_total += tag.shape[0]\n",
    "        loss = criterion(output, tag)\n",
    "        optimizer.zero_grad()\n",
    "        loss.backward()\n",
    "        optimizer.step()\n",
    "        \n",
    "    print('############## taining ##############')\n",
    "    print('{}/{}, loss:{}, training Accuracy:{}'.format(i+1, epochs, loss.item(), train_correct / train_total))\n",
    "    print('############## taining ##############')\n",
    "    \n",
    "    model.eval()\n",
    "    with torch.no_grad():\n",
    "        correct = 0\n",
    "        total = 0\n",
    "        for img, tag in tqdm(testloader):\n",
    "            img = img.to(device)\n",
    "            tag = tag.to(device).type(torch.cuda.LongTensor)\n",
    "            output = model(img)\n",
    "            _, predicted = torch.max(output.data, 1)\n",
    "            correct += (predicted == tag).sum().item()\n",
    "            total += tag.shape[0]\n",
    "        print('############## testing ##############')\n",
    "        print('testing Average Accuracy is {}'.format(correct / total))  \n",
    "        print('############## testing ##############')"
   ]
  },
  {
   "cell_type": "code",
   "execution_count": null,
   "metadata": {},
   "outputs": [],
   "source": []
  }
 ],
 "metadata": {
  "kernelspec": {
   "display_name": "Python 3",
   "language": "python",
   "name": "python3"
  },
  "language_info": {
   "codemirror_mode": {
    "name": "ipython",
    "version": 3
   },
   "file_extension": ".py",
   "mimetype": "text/x-python",
   "name": "python",
   "nbconvert_exporter": "python",
   "pygments_lexer": "ipython3",
   "version": "3.6.8"
  }
 },
 "nbformat": 4,
 "nbformat_minor": 2
}
